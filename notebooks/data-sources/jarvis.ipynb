{
 "cells": [
  {
   "cell_type": "markdown",
   "metadata": {},
   "source": [
    "# Interacting with Jarvis via MDF Search\n",
    "This notebook shows some examples for employing [matminer](https://github.com/hackingmaterials/matminer) to  to visualize data in [JARVIS](https://www.ctcms.nist.gov/~knc6/JVASP.html) and to screen that database for interesting materials. Uses the version of JARVIS available in the [Materials Data Facility](http://materialsdatafacility.org).\n",
    "\n",
    "Last tested with matminer v0.3.5"
   ]
  },
  {
   "cell_type": "code",
   "execution_count": 1,
   "metadata": {
    "collapsed": true
   },
   "outputs": [],
   "source": [
    "%matplotlib inline\n",
    "from matminer.data_retrieval.retrieve_MDF import MDFDataRetrieval\n",
    "from matplotlib.colors import LogNorm\n",
    "from matplotlib import pyplot as plt\n",
    "import pandas as pd\n",
    "import numpy as np\n",
    "import itertools"
   ]
  },
  {
   "cell_type": "markdown",
   "metadata": {},
   "source": [
    "## Get Jarvis Data\n",
    "Connect to the MDF and download all the data from Jarvis, which is also available on [GitHub](https://github.com/usnistgov/jarvis/blob/master/jarvis/db/static/explore_db.py)."
   ]
  },
  {
   "cell_type": "markdown",
   "metadata": {},
   "source": [
    "### Download the Data\n",
    "We first create an instance of Matminer's MDFDataRetrieval, which simplifies performing search queries against the MDF."
   ]
  },
  {
   "cell_type": "code",
   "execution_count": 2,
   "metadata": {
    "collapsed": true
   },
   "outputs": [],
   "source": [
    "mdf = MDFDataRetrieval()"
   ]
  },
  {
   "cell_type": "markdown",
   "metadata": {},
   "source": [
    "Get the version number of the current Jarvis dataset"
   ]
  },
  {
   "cell_type": "code",
   "execution_count": 3,
   "metadata": {},
   "outputs": [
    {
     "name": "stdout",
     "output_type": "stream",
     "text": [
      "Current version of JARVIS is: 2\n"
     ]
    }
   ],
   "source": [
    "version = mdf.forge.get_dataset_version('jarvis')\n",
    "print('Current version of JARVIS is:', version)"
   ]
  },
  {
   "cell_type": "markdown",
   "metadata": {},
   "source": [
    "Then, we get all the data from Jarvis"
   ]
  },
  {
   "cell_type": "code",
   "execution_count": 4,
   "metadata": {},
   "outputs": [
    {
     "name": "stderr",
     "output_type": "stream",
     "text": [
      "100%|█████████████████████████████████████████████████████████████████████████████████████████████████████████████████████████████████████████████████████████████████████████████████████████| 12776/12776 [00:24<00:00, 519.38it/s]\n"
     ]
    },
    {
     "name": "stdout",
     "output_type": "stream",
     "text": [
      "Found 12776 compounds\n"
     ]
    }
   ],
   "source": [
    "query_string = 'mdf.source_name:jarvis_v2 AND mdf.resource_type:record'\n",
    "data = mdf.get_data(query_string, unwind_arrays=False)\n",
    "print('Found {} compounds'.format(len(data)))"
   ]
  },
  {
   "cell_type": "markdown",
   "metadata": {},
   "source": [
    "Each record contains a high-level description of the kind of data held in Jarvis, as well as the values for commonly used properties"
   ]
  },
  {
   "cell_type": "code",
   "execution_count": 5,
   "metadata": {},
   "outputs": [
    {
     "data": {
      "text/html": [
       "<div>\n",
       "<style scoped>\n",
       "    .dataframe tbody tr th:only-of-type {\n",
       "        vertical-align: middle;\n",
       "    }\n",
       "\n",
       "    .dataframe tbody tr th {\n",
       "        vertical-align: top;\n",
       "    }\n",
       "\n",
       "    .dataframe thead th {\n",
       "        text-align: right;\n",
       "    }\n",
       "</style>\n",
       "<table border=\"1\" class=\"dataframe\">\n",
       "  <thead>\n",
       "    <tr style=\"text-align: right;\">\n",
       "      <th></th>\n",
       "      <th>crystal_structure.number_of_atoms</th>\n",
       "      <th>crystal_structure.space_group_number</th>\n",
       "      <th>crystal_structure.volume</th>\n",
       "      <th>dft.converged</th>\n",
       "      <th>dft.cutoff_energy</th>\n",
       "      <th>files</th>\n",
       "      <th>jarvis_v2.band_gap.mbj.units</th>\n",
       "      <th>jarvis_v2.band_gap.mbj.value</th>\n",
       "      <th>jarvis_v2.band_gap.optb88vdw.units</th>\n",
       "      <th>jarvis_v2.band_gap.optb88vdw.value</th>\n",
       "      <th>...</th>\n",
       "      <th>jarvis_v2.volume.units</th>\n",
       "      <th>jarvis_v2.volume.value</th>\n",
       "      <th>material.composition</th>\n",
       "      <th>material.elements</th>\n",
       "      <th>mdf.ingest_date</th>\n",
       "      <th>mdf.mdf_id</th>\n",
       "      <th>mdf.parent_id</th>\n",
       "      <th>mdf.resource_type</th>\n",
       "      <th>mdf.scroll_id</th>\n",
       "      <th>mdf.source_name</th>\n",
       "    </tr>\n",
       "  </thead>\n",
       "  <tbody>\n",
       "    <tr>\n",
       "      <th>0</th>\n",
       "      <td>6</td>\n",
       "      <td>191</td>\n",
       "      <td>81.550796</td>\n",
       "      <td>True</td>\n",
       "      <td>700</td>\n",
       "      <td>[{'data_type': 'ASCII text, with very long lin...</td>\n",
       "      <td>NaN</td>\n",
       "      <td>NaN</td>\n",
       "      <td>eV</td>\n",
       "      <td>0.0529</td>\n",
       "      <td>...</td>\n",
       "      <td>angstrom^3/atom</td>\n",
       "      <td>13.591799</td>\n",
       "      <td>YNi5</td>\n",
       "      <td>[Ni, Y]</td>\n",
       "      <td>2018-04-18T14:47:30.370836Z</td>\n",
       "      <td>5ad75a8734a22605a23dabd4</td>\n",
       "      <td>5ad75a8234a22605a23da743</td>\n",
       "      <td>record</td>\n",
       "      <td>1169</td>\n",
       "      <td>jarvis_v2</td>\n",
       "    </tr>\n",
       "    <tr>\n",
       "      <th>1</th>\n",
       "      <td>6</td>\n",
       "      <td>227</td>\n",
       "      <td>108.062954</td>\n",
       "      <td>True</td>\n",
       "      <td>500</td>\n",
       "      <td>[{'data_type': 'ASCII text, with very long lin...</td>\n",
       "      <td>eV</td>\n",
       "      <td>0.0256</td>\n",
       "      <td>eV</td>\n",
       "      <td>0.0062</td>\n",
       "      <td>...</td>\n",
       "      <td>angstrom^3/atom</td>\n",
       "      <td>18.010492</td>\n",
       "      <td>HfMo2</td>\n",
       "      <td>[Mo, Hf]</td>\n",
       "      <td>2018-04-18T14:47:30.370836Z</td>\n",
       "      <td>5ad75a8734a22605a23dabd6</td>\n",
       "      <td>5ad75a8234a22605a23da743</td>\n",
       "      <td>record</td>\n",
       "      <td>1171</td>\n",
       "      <td>jarvis_v2</td>\n",
       "    </tr>\n",
       "  </tbody>\n",
       "</table>\n",
       "<p>2 rows × 34 columns</p>\n",
       "</div>"
      ],
      "text/plain": [
       "   crystal_structure.number_of_atoms  crystal_structure.space_group_number  \\\n",
       "0                                  6                                   191   \n",
       "1                                  6                                   227   \n",
       "\n",
       "   crystal_structure.volume  dft.converged  dft.cutoff_energy  \\\n",
       "0                 81.550796           True                700   \n",
       "1                108.062954           True                500   \n",
       "\n",
       "                                               files  \\\n",
       "0  [{'data_type': 'ASCII text, with very long lin...   \n",
       "1  [{'data_type': 'ASCII text, with very long lin...   \n",
       "\n",
       "  jarvis_v2.band_gap.mbj.units  jarvis_v2.band_gap.mbj.value  \\\n",
       "0                          NaN                           NaN   \n",
       "1                           eV                        0.0256   \n",
       "\n",
       "  jarvis_v2.band_gap.optb88vdw.units  jarvis_v2.band_gap.optb88vdw.value  \\\n",
       "0                                 eV                              0.0529   \n",
       "1                                 eV                              0.0062   \n",
       "\n",
       "        ...        jarvis_v2.volume.units jarvis_v2.volume.value  \\\n",
       "0       ...               angstrom^3/atom              13.591799   \n",
       "1       ...               angstrom^3/atom              18.010492   \n",
       "\n",
       "   material.composition material.elements              mdf.ingest_date  \\\n",
       "0                  YNi5           [Ni, Y]  2018-04-18T14:47:30.370836Z   \n",
       "1                 HfMo2          [Mo, Hf]  2018-04-18T14:47:30.370836Z   \n",
       "\n",
       "                 mdf.mdf_id             mdf.parent_id  mdf.resource_type  \\\n",
       "0  5ad75a8734a22605a23dabd4  5ad75a8234a22605a23da743             record   \n",
       "1  5ad75a8734a22605a23dabd6  5ad75a8234a22605a23da743             record   \n",
       "\n",
       "  mdf.scroll_id  mdf.source_name  \n",
       "0          1169        jarvis_v2  \n",
       "1          1171        jarvis_v2  \n",
       "\n",
       "[2 rows x 34 columns]"
      ]
     },
     "execution_count": 5,
     "metadata": {},
     "output_type": "execute_result"
    }
   ],
   "source": [
    "data.head(2)"
   ]
  },
  {
   "cell_type": "code",
   "execution_count": 6,
   "metadata": {},
   "outputs": [
    {
     "data": {
      "text/plain": [
       "Index(['crystal_structure.number_of_atoms',\n",
       "       'crystal_structure.space_group_number', 'crystal_structure.volume',\n",
       "       'dft.converged', 'dft.cutoff_energy', 'files',\n",
       "       'jarvis_v2.band_gap.mbj.units', 'jarvis_v2.band_gap.mbj.value',\n",
       "       'jarvis_v2.band_gap.optb88vdw.units',\n",
       "       'jarvis_v2.band_gap.optb88vdw.value',\n",
       "       'jarvis_v2.crossreference.materials_project',\n",
       "       'jarvis_v2.dielectric_function.mbj.units',\n",
       "       'jarvis_v2.dielectric_function.mbj.value',\n",
       "       'jarvis_v2.dielectric_function.optb88vdw.units',\n",
       "       'jarvis_v2.dielectric_function.optb88vdw.value',\n",
       "       'jarvis_v2.dimensionality', 'jarvis_v2.elastic_moduli.bulk.units',\n",
       "       'jarvis_v2.elastic_moduli.bulk.value',\n",
       "       'jarvis_v2.elastic_moduli.shear.units',\n",
       "       'jarvis_v2.elastic_moduli.shear.value', 'jarvis_v2.id',\n",
       "       'jarvis_v2.landing_page', 'jarvis_v2.total_energy.units',\n",
       "       'jarvis_v2.total_energy.value', 'jarvis_v2.volume.units',\n",
       "       'jarvis_v2.volume.value', 'material.composition', 'material.elements',\n",
       "       'mdf.ingest_date', 'mdf.mdf_id', 'mdf.parent_id', 'mdf.resource_type',\n",
       "       'mdf.scroll_id', 'mdf.source_name'],\n",
       "      dtype='object')"
      ]
     },
     "execution_count": 6,
     "metadata": {},
     "output_type": "execute_result"
    }
   ],
   "source": [
    "data.columns"
   ]
  },
  {
   "cell_type": "markdown",
   "metadata": {},
   "source": [
    "## Make Some Simple Plots\n",
    "Showcase what kind of data is available in JARVIS."
   ]
  },
  {
   "cell_type": "markdown",
   "metadata": {},
   "source": [
    "### How many compounds are 2D?\n",
    "Just figure out how many compounds are from the 2D vs the 3D dataset"
   ]
  },
  {
   "cell_type": "code",
   "execution_count": 7,
   "metadata": {},
   "outputs": [
    {
     "data": {
      "image/png": "[encoded data removed]",
      "text/plain": [
       "<matplotlib.figure.Figure at 0x28263ca4f98>"
      ]
     },
     "metadata": {},
     "output_type": "display_data"
    }
   ],
   "source": [
    "fig, ax = plt.subplots()\n",
    "\n",
    "counts = data['jarvis_v{}.dimensionality'.format(version)].value_counts()\n",
    "ax.pie(counts, explode=[0, 0.1], labels=counts.index, autopct='%1.1f%%',\n",
    "        shadow=True, startangle=90)\n",
    "\n",
    "fig.set_size_inches(3, 3)\n",
    "fig.tight_layout()"
   ]
  },
  {
   "cell_type": "markdown",
   "metadata": {},
   "source": [
    "### How are the spacegroups distributed?\n",
    "How are the entries distributed throughout the 230 spacegroups?"
   ]
  },
  {
   "cell_type": "code",
   "execution_count": 8,
   "metadata": {},
   "outputs": [
    {
     "data": {
      "text/plain": [
       "(1, 231)"
      ]
     },
     "execution_count": 8,
     "metadata": {},
     "output_type": "execute_result"
    },
    {
     "data": {
      "image/png": "[encoded data removed]",
      "text/plain": [
       "<matplotlib.figure.Figure at 0x28265d5c2b0>"
      ]
     },
     "metadata": {},
     "output_type": "display_data"
    }
   ],
   "source": [
    "fig, ax = plt.subplots()\n",
    "\n",
    "ax.hist(data['crystal_structure.space_group_number'], bins=range(1, 231));\n",
    "\n",
    "ax.set_xlabel('Spacegroup')\n",
    "ax.set_ylabel('Count')\n",
    "\n",
    "ax.set_xlim(1, 231)"
   ]
  },
  {
   "cell_type": "markdown",
   "metadata": {},
   "source": [
    "### Effect of Functionals on Predicted Properties\n",
    "Jarvis uses two different eXchange-Correlation (XC) functionals for computing band gap energies with DFT: optB88-vdw, and MBJ. These plots show how well they compare"
   ]
  },
  {
   "cell_type": "code",
   "execution_count": 9,
   "metadata": {},
   "outputs": [
    {
     "data": {
      "image/png": "[encoded data removed]",
      "text/plain": [
       "<matplotlib.figure.Figure at 0x28265675978>"
      ]
     },
     "metadata": {},
     "output_type": "display_data"
    }
   ],
   "source": [
    "fig, ax = plt.subplots()\n",
    "\n",
    "# Plot the two values\n",
    "ax.scatter(data['jarvis_v{}.band_gap.optb88vdw.value'.format(version)], \n",
    "           data['jarvis_v{}.band_gap.mbj.value'.format(version)], alpha=0.3, s=5)\n",
    "\n",
    "# Plot the equality line\n",
    "ax.set_xlim(min(ax.get_xlim()[0], ax.get_ylim()[0]), max(ax.get_xlim()[1], ax.get_ylim()[1]))\n",
    "ax.set_ylim(ax.get_xlim())\n",
    "\n",
    "ax.plot(ax.get_xlim(), ax.get_ylim(), 'k--')\n",
    "\n",
    "ax.set_xlabel('$E_g$, optB88-vdw (eV)')\n",
    "ax.set_ylabel('$E_g$, MBJ (eV)')\n",
    "\n",
    "fig.set_size_inches(3, 3)\n",
    "fig.tight_layout()"
   ]
  },
  {
   "cell_type": "markdown",
   "metadata": {},
   "source": [
    "### How related are different elastic moduli?\n",
    "Are shear and bulk moduli generally correlated?"
   ]
  },
  {
   "cell_type": "code",
   "execution_count": 10,
   "metadata": {},
   "outputs": [
    {
     "data": {
      "text/plain": [
       "Text(0,0.5,'Shear Modulus (GPa)')"
      ]
     },
     "execution_count": 10,
     "metadata": {},
     "output_type": "execute_result"
    },
    {
     "data": {
      "image/png": "[encoded data removed]",
      "text/plain": [
       "<matplotlib.figure.Figure at 0x28265d5cbe0>"
      ]
     },
     "metadata": {},
     "output_type": "display_data"
    }
   ],
   "source": [
    "fig, ax = plt.subplots()\n",
    "\n",
    "subset = data[data['jarvis_v{}.dimensionality'.format(version)] == \"3d\"]\n",
    "\n",
    "ax.scatter(subset['jarvis_v{}.elastic_moduli.bulk.value'.format(version)],\n",
    "                  subset['jarvis_v{}.elastic_moduli.shear.value'.format(version)])\n",
    "\n",
    "ax.set_xlabel('Bulk Modulus (GPa)')\n",
    "ax.set_ylabel('Shear Modulus (GPa)')"
   ]
  },
  {
   "cell_type": "markdown",
   "metadata": {},
   "source": [
    "Same plot, minus the compounds with negative moduli"
   ]
  },
  {
   "cell_type": "code",
   "execution_count": 11,
   "metadata": {},
   "outputs": [
    {
     "data": {
      "text/plain": [
       "Text(0,0.5,'Shear Modulus (GPa)')"
      ]
     },
     "execution_count": 11,
     "metadata": {},
     "output_type": "execute_result"
    },
    {
     "data": {
      "image/png": "[encoded data removed]",
      "text/plain": [
       "<matplotlib.figure.Figure at 0x28262498470>"
      ]
     },
     "metadata": {},
     "output_type": "display_data"
    }
   ],
   "source": [
    "fig, ax = plt.subplots()\n",
    "\n",
    "subset = subset[np.logical_and(subset['jarvis_v{}.elastic_moduli.bulk.value'.format(version)] > 0,\n",
    "                subset['jarvis_v{}.elastic_moduli.shear.value'.format(version)] > 0)]\n",
    "\n",
    "ax.scatter(subset['jarvis_v{}.elastic_moduli.bulk.value'.format(version)],\n",
    "                  subset['jarvis_v{}.elastic_moduli.shear.value'.format(version)],\n",
    "          alpha=0.7)\n",
    "\n",
    "ax.set_xlabel('Bulk Modulus (GPa)')\n",
    "ax.set_ylabel('Shear Modulus (GPa)')"
   ]
  },
  {
   "cell_type": "markdown",
   "metadata": {
    "collapsed": true
   },
   "source": [
    "## Some Example Screening\n",
    "Just do demonstrate some screening that you can do with the [Forge client](https://github.com/materials-data-facility/forge), which can access via the MDFDataRetrieval object to get access to the raw data"
   ]
  },
  {
   "cell_type": "code",
   "execution_count": 12,
   "metadata": {
    "collapsed": true
   },
   "outputs": [],
   "source": [
    "screened_results = mdf.forge.aggregate('mdf.source_name:jarvis_v{0} AND jarvis_v{0}.band_gap.mbj.value:[1.1 TO 1.6] '\n",
    "                                       'AND jarvis_v{0}.dimensionality:2d'.format(version))"
   ]
  },
  {
   "cell_type": "markdown",
   "metadata": {},
   "source": [
    "Each record is a dictionary"
   ]
  },
  {
   "cell_type": "code",
   "execution_count": 13,
   "metadata": {},
   "outputs": [
    {
     "data": {
      "text/plain": [
       "{'crystal_structure': {'number_of_atoms': 7,\n",
       "  'space_group_number': 164,\n",
       "  'volume': 542.6510033280861},\n",
       " 'dft': {'converged': True, 'cutoff_energy': 500},\n",
       " 'files': [{'data_type': 'ASCII text, with very long lines, with no line terminators',\n",
       "   'filename': 'JVASP-28130.json',\n",
       "   'globus': 'globus://e38ee745-6d04-11e5-ba46-22000b92c6ec/MDF/mdf_connect/prod/data/jarvis_v2/jdft_2da/JVASP-28130.json',\n",
       "   'length': 5040,\n",
       "   'mime_type': 'text/plain',\n",
       "   'sha512': 'eeeb2ae77cdc0ea2d1f79ff32aa76fcc8d9d571838152b74b5fcdb2560f3b60ec0a743b29e326530e3e67c5acbe138eec0ef26d2298e659ad70dc9877a845297',\n",
       "   'url': 'https://e38ee745-6d04-11e5-ba46-22000b92c6ec.e.globus.org/MDF/mdf_connect/prod/data/jarvis_v2/jdft_2da/JVASP-28130.json'}],\n",
       " 'jarvis_v2': {'band_gap': {'mbj': {'units': 'eV', 'value': 1.2676},\n",
       "   'optb88vdw': {'units': 'eV', 'value': 1.0772000000000002}},\n",
       "  'crossreference': {'materials_project': 'mp-676250'},\n",
       "  'dimensionality': '2d',\n",
       "  'id': 'JVASP-28130',\n",
       "  'landing_page': 'https://www.ctcms.nist.gov/~knc6/jsmol/JVASP-28130.html',\n",
       "  'total_energy': {'units': 'eV/atom', 'value': -9.2107535},\n",
       "  'volume': {'units': 'angstrom^3/atom', 'value': 77.52157190401229}},\n",
       " 'material': {'composition': 'Bi2Te4Pb', 'elements': ['Bi', 'Pb', 'Te']},\n",
       " 'mdf': {'ingest_date': '2018-04-18T14:47:30.370836Z',\n",
       "  'mdf_id': '5ad75ab134a22605a23dd8c4',\n",
       "  'parent_id': '5ad75a8234a22605a23da743',\n",
       "  'resource_type': 'record',\n",
       "  'scroll_id': 12673,\n",
       "  'source_name': 'jarvis_v2'}}"
      ]
     },
     "execution_count": 13,
     "metadata": {},
     "output_type": "execute_result"
    }
   ],
   "source": [
    "screened_results[0]"
   ]
  },
  {
   "cell_type": "markdown",
   "metadata": {},
   "source": [
    "Print out some materials with band gap energies in the range desired for solar cells"
   ]
  },
  {
   "cell_type": "code",
   "execution_count": 14,
   "metadata": {},
   "outputs": [
    {
     "name": "stdout",
     "output_type": "stream",
     "text": [
      "Found 4 materials with band gaps between 1.1 and 1.6 eV:\n",
      "Composition: Bi2Te4Pb - Gap: 1.27 eV - URL: https://www.ctcms.nist.gov/~knc6/jsmol/JVASP-28130.html\n",
      "Composition: ThTe3 - Gap: 1.49 eV - URL: https://www.ctcms.nist.gov/~knc6/jsmol/JVASP-27859.html\n",
      "Composition: Bi2PbSe4 - Gap: 1.14 eV - URL: https://www.ctcms.nist.gov/~knc6/jsmol/JVASP-28127.html\n",
      "Composition: Nb(SeBr)2 - Gap: 1.22 eV - URL: https://www.ctcms.nist.gov/~knc6/jsmol/JVASP-14420.html\n"
     ]
    }
   ],
   "source": [
    "print('Found {} materials with band gaps between 1.1 and 1.6 eV:'.format(len(screened_results)))\n",
    "for result in screened_results:\n",
    "    print('Composition: %s - Gap: %.2f eV - URL: %s'%(result['material']['composition'],\n",
    "                                                      result['jarvis_v{}'.format(version)]['band_gap'].get('mbj', {}).get('value', np.nan),\n",
    "                                                      result['jarvis_v{}'.format(version)]['landing_page']))"
   ]
  },
  {
   "cell_type": "code",
   "execution_count": null,
   "metadata": {
    "collapsed": true
   },
   "outputs": [],
   "source": []
  }
 ],
 "metadata": {
  "kernelspec": {
   "display_name": "Python 3",
   "language": "python",
   "name": "python3"
  },
  "language_info": {
   "codemirror_mode": {
    "name": "ipython",
    "version": 3
   },
   "file_extension": ".py",
   "mimetype": "text/x-python",
   "name": "python",
   "nbconvert_exporter": "python",
   "pygments_lexer": "ipython3",
   "version": "3.6.0"
  }
 },
 "nbformat": 4,
 "nbformat_minor": 2
}
